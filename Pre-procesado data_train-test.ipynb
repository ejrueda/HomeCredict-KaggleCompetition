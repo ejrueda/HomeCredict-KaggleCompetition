{
 "cells": [
  {
   "cell_type": "code",
   "execution_count": 1,
   "metadata": {
    "collapsed": true
   },
   "outputs": [],
   "source": [
    "import pandas as pd\n",
    "import numpy as np"
   ]
  },
  {
   "cell_type": "markdown",
   "metadata": {},
   "source": [
    "se importan el conjunto de datos de train/test"
   ]
  },
  {
   "cell_type": "code",
   "execution_count": 2,
   "metadata": {
    "collapsed": true
   },
   "outputs": [],
   "source": [
    "data_train = pd.read_csv('./data/application_train.csv')\n",
    "data_test = pd.read_csv('./data/application_test.csv')"
   ]
  },
  {
   "cell_type": "code",
   "execution_count": 3,
   "metadata": {},
   "outputs": [
    {
     "data": {
      "text/plain": [
       "(0.91927118054313506, 0.080728819456864956)"
      ]
     },
     "execution_count": 3,
     "metadata": {},
     "output_type": "execute_result"
    }
   ],
   "source": [
    "np.mean(data_train.TARGET==0), np.mean(data_train.TARGET==1)"
   ]
  },
  {
   "cell_type": "code",
   "execution_count": 4,
   "metadata": {},
   "outputs": [
    {
     "data": {
      "text/plain": [
       "((24825, 122), (282686, 122))"
      ]
     },
     "execution_count": 4,
     "metadata": {},
     "output_type": "execute_result"
    }
   ],
   "source": [
    "data_train_1 = data_train.loc[data_train.loc[data_train.index,'TARGET']==1]\n",
    "data_train_0 = data_train.loc[data_train.loc[data_train.index,'TARGET']==0]\n",
    "\n",
    "data_train_1.shape, data_train_0.shape"
   ]
  },
  {
   "cell_type": "markdown",
   "metadata": {},
   "source": [
    "Para balancear el dataset se recurre a elegir de las etiquetas 0, el mismo número de datos que las etiquetas 1 contienen"
   ]
  },
  {
   "cell_type": "code",
   "execution_count": 5,
   "metadata": {
    "collapsed": true
   },
   "outputs": [],
   "source": [
    "index_0 = np.random.choice(data_train_0.index,data_train_1.shape[0],False)"
   ]
  },
  {
   "cell_type": "code",
   "execution_count": 6,
   "metadata": {},
   "outputs": [
    {
     "data": {
      "text/plain": [
       "array([107946, 197517, 279197, ..., 179399,  44373, 222812])"
      ]
     },
     "execution_count": 6,
     "metadata": {},
     "output_type": "execute_result"
    }
   ],
   "source": [
    "index_0"
   ]
  },
  {
   "cell_type": "code",
   "execution_count": 7,
   "metadata": {},
   "outputs": [
    {
     "data": {
      "text/plain": [
       "((24825, 122), (24825, 122))"
      ]
     },
     "execution_count": 7,
     "metadata": {},
     "output_type": "execute_result"
    }
   ],
   "source": [
    "data_train_0 = data_train_0.loc[index_0]\n",
    "data_train_1.shape, data_train_0.shape"
   ]
  },
  {
   "cell_type": "code",
   "execution_count": 8,
   "metadata": {},
   "outputs": [
    {
     "data": {
      "text/plain": [
       "((49650, 122), (48744, 121))"
      ]
     },
     "execution_count": 8,
     "metadata": {},
     "output_type": "execute_result"
    }
   ],
   "source": [
    "data_train = pd.concat((data_train_0,data_train_1)).sort_index()\n",
    "data_train.shape, data_test.shape"
   ]
  },
  {
   "cell_type": "code",
   "execution_count": 9,
   "metadata": {
    "collapsed": true
   },
   "outputs": [],
   "source": [
    "data_train = data_train.set_index(data_train.SK_ID_CURR)\n",
    "data_test = data_test.set_index(data_test.SK_ID_CURR)\n",
    "\n",
    "data_train = data_train.drop('SK_ID_CURR',axis=1)\n",
    "data_test = data_test.drop('SK_ID_CURR',axis=1)"
   ]
  },
  {
   "cell_type": "markdown",
   "metadata": {},
   "source": [
    "se considera que algunas columnas no aportan información siginificante, para esto se recurre a eliminarlas, dichas columnas se mensionan a continuación:\n",
    "\n",
    "    -NAME_TYPE_SUITE: Quien acompañaba al cliente en el momento de solicitar el prestamo.\n",
    "    -HOUR_APPR_PROCESS_START: hora aproximada en la que el cliente solicitó el prestamo."
   ]
  },
  {
   "cell_type": "code",
   "execution_count": 10,
   "metadata": {
    "collapsed": true
   },
   "outputs": [],
   "source": [
    "data_train = data_train.drop(['NAME_TYPE_SUITE','HOUR_APPR_PROCESS_START'],axis=1)\n",
    "data_test = data_test.drop(['NAME_TYPE_SUITE','HOUR_APPR_PROCESS_START'],axis=1)"
   ]
  },
  {
   "cell_type": "markdown",
   "metadata": {},
   "source": [
    "así, por otro lado hay que decir que ciertas caracteristicas vienen representadas por valores los cuales están alejados de a realidad, por ejemplo las edades o dias, vienen de forma negativa, para esto se hará el respectivo cambio."
   ]
  },
  {
   "cell_type": "code",
   "execution_count": 11,
   "metadata": {
    "collapsed": true
   },
   "outputs": [],
   "source": [
    "data_train.DAYS_BIRTH = abs(data_train.DAYS_BIRTH)/365 #años de las personas\n",
    "data_test.DAYS_BIRTH = abs(data_test.DAYS_BIRTH)/365 #años de las personas"
   ]
  },
  {
   "cell_type": "code",
   "execution_count": 12,
   "metadata": {
    "collapsed": true
   },
   "outputs": [],
   "source": [
    "data_train.DAYS_EMPLOYED = abs(data_train.DAYS_EMPLOYED)\n",
    "data_test.DAYS_EMPLOYED = abs(data_test.DAYS_EMPLOYED)\n",
    "\n",
    "data_train.DAYS_REGISTRATION = abs(data_train.DAYS_REGISTRATION)\n",
    "data_test.DAYS_REGISTRATION = abs(data_test.DAYS_REGISTRATION)\n",
    "\n",
    "data_train.DAYS_LAST_PHONE_CHANGE = abs(data_train.DAYS_LAST_PHONE_CHANGE)\n",
    "data_test.DAYS_LAST_PHONE_CHANGE = abs(data_test.DAYS_LAST_PHONE_CHANGE)"
   ]
  },
  {
   "cell_type": "markdown",
   "metadata": {},
   "source": [
    "dado que la columa OWN_CAR_AGE puede ser significante ya que es a la edad del carro del cliente, para los clientes que no tienen vehiculo se procede a poner 0"
   ]
  },
  {
   "cell_type": "code",
   "execution_count": 13,
   "metadata": {
    "collapsed": true
   },
   "outputs": [],
   "source": [
    "data_train.OWN_CAR_AGE = data_train.OWN_CAR_AGE.fillna(value=0)\n",
    "data_test.OWN_CAR_AGE = data_test.OWN_CAR_AGE.fillna(value=0)"
   ]
  },
  {
   "cell_type": "markdown",
   "metadata": {},
   "source": [
    "ahora dadas las columnas de EXT_SOURCE_1,2 y 3 las cuales son una puntuación de base de datos esxternas, para los clientes que no tienen puntuación, se asumirá la minima puntuación"
   ]
  },
  {
   "cell_type": "code",
   "execution_count": 14,
   "metadata": {
    "collapsed": true
   },
   "outputs": [],
   "source": [
    "data_train.EXT_SOURCE_1 = data_train.EXT_SOURCE_1.fillna(value=data_train.EXT_SOURCE_1.min())\n",
    "data_test.EXT_SOURCE_1 = data_test.EXT_SOURCE_1.fillna(value=data_test.EXT_SOURCE_1.min())\n",
    "\n",
    "data_train.EXT_SOURCE_2 = data_train.EXT_SOURCE_2.fillna(value=data_train.EXT_SOURCE_2.min())\n",
    "data_test.EXT_SOURCE_2 = data_test.EXT_SOURCE_2.fillna(value=data_test.EXT_SOURCE_2.min())\n",
    "\n",
    "data_train.EXT_SOURCE_3 = data_train.EXT_SOURCE_3.fillna(value=data_train.EXT_SOURCE_3.min())\n",
    "data_test.EXT_SOURCE_3 = data_test.EXT_SOURCE_3.fillna(value=data_test.EXT_SOURCE_3.min())"
   ]
  },
  {
   "cell_type": "code",
   "execution_count": 16,
   "metadata": {},
   "outputs": [
    {
     "data": {
      "text/html": [
       "<div>\n",
       "<style>\n",
       "    .dataframe thead tr:only-child th {\n",
       "        text-align: right;\n",
       "    }\n",
       "\n",
       "    .dataframe thead th {\n",
       "        text-align: left;\n",
       "    }\n",
       "\n",
       "    .dataframe tbody tr th {\n",
       "        vertical-align: top;\n",
       "    }\n",
       "</style>\n",
       "<table border=\"1\" class=\"dataframe\">\n",
       "  <thead>\n",
       "    <tr style=\"text-align: right;\">\n",
       "      <th></th>\n",
       "      <th>TARGET</th>\n",
       "      <th>NAME_CONTRACT_TYPE</th>\n",
       "      <th>CODE_GENDER</th>\n",
       "      <th>FLAG_OWN_CAR</th>\n",
       "      <th>FLAG_OWN_REALTY</th>\n",
       "      <th>CNT_CHILDREN</th>\n",
       "      <th>AMT_INCOME_TOTAL</th>\n",
       "      <th>AMT_CREDIT</th>\n",
       "      <th>AMT_ANNUITY</th>\n",
       "      <th>AMT_GOODS_PRICE</th>\n",
       "      <th>...</th>\n",
       "      <th>FLAG_DOCUMENT_18</th>\n",
       "      <th>FLAG_DOCUMENT_19</th>\n",
       "      <th>FLAG_DOCUMENT_20</th>\n",
       "      <th>FLAG_DOCUMENT_21</th>\n",
       "      <th>AMT_REQ_CREDIT_BUREAU_HOUR</th>\n",
       "      <th>AMT_REQ_CREDIT_BUREAU_DAY</th>\n",
       "      <th>AMT_REQ_CREDIT_BUREAU_WEEK</th>\n",
       "      <th>AMT_REQ_CREDIT_BUREAU_MON</th>\n",
       "      <th>AMT_REQ_CREDIT_BUREAU_QRT</th>\n",
       "      <th>AMT_REQ_CREDIT_BUREAU_YEAR</th>\n",
       "    </tr>\n",
       "    <tr>\n",
       "      <th>SK_ID_CURR</th>\n",
       "      <th></th>\n",
       "      <th></th>\n",
       "      <th></th>\n",
       "      <th></th>\n",
       "      <th></th>\n",
       "      <th></th>\n",
       "      <th></th>\n",
       "      <th></th>\n",
       "      <th></th>\n",
       "      <th></th>\n",
       "      <th></th>\n",
       "      <th></th>\n",
       "      <th></th>\n",
       "      <th></th>\n",
       "      <th></th>\n",
       "      <th></th>\n",
       "      <th></th>\n",
       "      <th></th>\n",
       "      <th></th>\n",
       "      <th></th>\n",
       "      <th></th>\n",
       "    </tr>\n",
       "  </thead>\n",
       "  <tbody>\n",
       "    <tr>\n",
       "      <th>100002</th>\n",
       "      <td>1</td>\n",
       "      <td>Cash loans</td>\n",
       "      <td>M</td>\n",
       "      <td>N</td>\n",
       "      <td>Y</td>\n",
       "      <td>0</td>\n",
       "      <td>202500.0</td>\n",
       "      <td>406597.5</td>\n",
       "      <td>24700.5</td>\n",
       "      <td>351000.0</td>\n",
       "      <td>...</td>\n",
       "      <td>0</td>\n",
       "      <td>0</td>\n",
       "      <td>0</td>\n",
       "      <td>0</td>\n",
       "      <td>0.0</td>\n",
       "      <td>0.0</td>\n",
       "      <td>0.0</td>\n",
       "      <td>0.0</td>\n",
       "      <td>0.0</td>\n",
       "      <td>1.0</td>\n",
       "    </tr>\n",
       "    <tr>\n",
       "      <th>100007</th>\n",
       "      <td>0</td>\n",
       "      <td>Cash loans</td>\n",
       "      <td>M</td>\n",
       "      <td>N</td>\n",
       "      <td>Y</td>\n",
       "      <td>0</td>\n",
       "      <td>121500.0</td>\n",
       "      <td>513000.0</td>\n",
       "      <td>21865.5</td>\n",
       "      <td>513000.0</td>\n",
       "      <td>...</td>\n",
       "      <td>0</td>\n",
       "      <td>0</td>\n",
       "      <td>0</td>\n",
       "      <td>0</td>\n",
       "      <td>0.0</td>\n",
       "      <td>0.0</td>\n",
       "      <td>0.0</td>\n",
       "      <td>0.0</td>\n",
       "      <td>0.0</td>\n",
       "      <td>0.0</td>\n",
       "    </tr>\n",
       "    <tr>\n",
       "      <th>100024</th>\n",
       "      <td>0</td>\n",
       "      <td>Revolving loans</td>\n",
       "      <td>M</td>\n",
       "      <td>Y</td>\n",
       "      <td>Y</td>\n",
       "      <td>0</td>\n",
       "      <td>135000.0</td>\n",
       "      <td>427500.0</td>\n",
       "      <td>21375.0</td>\n",
       "      <td>427500.0</td>\n",
       "      <td>...</td>\n",
       "      <td>0</td>\n",
       "      <td>0</td>\n",
       "      <td>0</td>\n",
       "      <td>0</td>\n",
       "      <td>NaN</td>\n",
       "      <td>NaN</td>\n",
       "      <td>NaN</td>\n",
       "      <td>NaN</td>\n",
       "      <td>NaN</td>\n",
       "      <td>NaN</td>\n",
       "    </tr>\n",
       "    <tr>\n",
       "      <th>100031</th>\n",
       "      <td>1</td>\n",
       "      <td>Cash loans</td>\n",
       "      <td>F</td>\n",
       "      <td>N</td>\n",
       "      <td>Y</td>\n",
       "      <td>0</td>\n",
       "      <td>112500.0</td>\n",
       "      <td>979992.0</td>\n",
       "      <td>27076.5</td>\n",
       "      <td>702000.0</td>\n",
       "      <td>...</td>\n",
       "      <td>0</td>\n",
       "      <td>0</td>\n",
       "      <td>0</td>\n",
       "      <td>0</td>\n",
       "      <td>0.0</td>\n",
       "      <td>0.0</td>\n",
       "      <td>0.0</td>\n",
       "      <td>0.0</td>\n",
       "      <td>2.0</td>\n",
       "      <td>2.0</td>\n",
       "    </tr>\n",
       "    <tr>\n",
       "      <th>100045</th>\n",
       "      <td>0</td>\n",
       "      <td>Cash loans</td>\n",
       "      <td>F</td>\n",
       "      <td>N</td>\n",
       "      <td>Y</td>\n",
       "      <td>0</td>\n",
       "      <td>99000.0</td>\n",
       "      <td>247275.0</td>\n",
       "      <td>17338.5</td>\n",
       "      <td>225000.0</td>\n",
       "      <td>...</td>\n",
       "      <td>0</td>\n",
       "      <td>0</td>\n",
       "      <td>0</td>\n",
       "      <td>0</td>\n",
       "      <td>0.0</td>\n",
       "      <td>0.0</td>\n",
       "      <td>0.0</td>\n",
       "      <td>0.0</td>\n",
       "      <td>0.0</td>\n",
       "      <td>2.0</td>\n",
       "    </tr>\n",
       "  </tbody>\n",
       "</table>\n",
       "<p>5 rows × 119 columns</p>\n",
       "</div>"
      ],
      "text/plain": [
       "            TARGET NAME_CONTRACT_TYPE CODE_GENDER FLAG_OWN_CAR  \\\n",
       "SK_ID_CURR                                                       \n",
       "100002           1         Cash loans           M            N   \n",
       "100007           0         Cash loans           M            N   \n",
       "100024           0    Revolving loans           M            Y   \n",
       "100031           1         Cash loans           F            N   \n",
       "100045           0         Cash loans           F            N   \n",
       "\n",
       "           FLAG_OWN_REALTY  CNT_CHILDREN  AMT_INCOME_TOTAL  AMT_CREDIT  \\\n",
       "SK_ID_CURR                                                               \n",
       "100002                   Y             0          202500.0    406597.5   \n",
       "100007                   Y             0          121500.0    513000.0   \n",
       "100024                   Y             0          135000.0    427500.0   \n",
       "100031                   Y             0          112500.0    979992.0   \n",
       "100045                   Y             0           99000.0    247275.0   \n",
       "\n",
       "            AMT_ANNUITY  AMT_GOODS_PRICE             ...              \\\n",
       "SK_ID_CURR                                           ...               \n",
       "100002          24700.5         351000.0             ...               \n",
       "100007          21865.5         513000.0             ...               \n",
       "100024          21375.0         427500.0             ...               \n",
       "100031          27076.5         702000.0             ...               \n",
       "100045          17338.5         225000.0             ...               \n",
       "\n",
       "           FLAG_DOCUMENT_18 FLAG_DOCUMENT_19 FLAG_DOCUMENT_20  \\\n",
       "SK_ID_CURR                                                      \n",
       "100002                    0                0                0   \n",
       "100007                    0                0                0   \n",
       "100024                    0                0                0   \n",
       "100031                    0                0                0   \n",
       "100045                    0                0                0   \n",
       "\n",
       "           FLAG_DOCUMENT_21  AMT_REQ_CREDIT_BUREAU_HOUR  \\\n",
       "SK_ID_CURR                                                \n",
       "100002                    0                         0.0   \n",
       "100007                    0                         0.0   \n",
       "100024                    0                         NaN   \n",
       "100031                    0                         0.0   \n",
       "100045                    0                         0.0   \n",
       "\n",
       "            AMT_REQ_CREDIT_BUREAU_DAY  AMT_REQ_CREDIT_BUREAU_WEEK  \\\n",
       "SK_ID_CURR                                                          \n",
       "100002                            0.0                         0.0   \n",
       "100007                            0.0                         0.0   \n",
       "100024                            NaN                         NaN   \n",
       "100031                            0.0                         0.0   \n",
       "100045                            0.0                         0.0   \n",
       "\n",
       "            AMT_REQ_CREDIT_BUREAU_MON  AMT_REQ_CREDIT_BUREAU_QRT  \\\n",
       "SK_ID_CURR                                                         \n",
       "100002                            0.0                        0.0   \n",
       "100007                            0.0                        0.0   \n",
       "100024                            NaN                        NaN   \n",
       "100031                            0.0                        2.0   \n",
       "100045                            0.0                        0.0   \n",
       "\n",
       "            AMT_REQ_CREDIT_BUREAU_YEAR  \n",
       "SK_ID_CURR                              \n",
       "100002                             1.0  \n",
       "100007                             0.0  \n",
       "100024                             NaN  \n",
       "100031                             2.0  \n",
       "100045                             2.0  \n",
       "\n",
       "[5 rows x 119 columns]"
      ]
     },
     "execution_count": 16,
     "metadata": {},
     "output_type": "execute_result"
    }
   ],
   "source": [
    "data_train.head()"
   ]
  },
  {
   "cell_type": "code",
   "execution_count": 20,
   "metadata": {
    "collapsed": true
   },
   "outputs": [],
   "source": [
    "y_train = data_train['TARGET']\n",
    "data_train = data_train[[col for col in data_train.columns if col!='TARGET']]"
   ]
  },
  {
   "cell_type": "code",
   "execution_count": 22,
   "metadata": {
    "collapsed": true
   },
   "outputs": [],
   "source": [
    "y_train.to_csv('./data/data_procesada/y_train_1.csv')\n",
    "data_train.to_csv('./data/data_procesada/data_train_1.csv')\n",
    "data_test.to_csv('./data/data_procesada/data_test_1.csv')"
   ]
  },
  {
   "cell_type": "code",
   "execution_count": null,
   "metadata": {
    "collapsed": true
   },
   "outputs": [],
   "source": []
  }
 ],
 "metadata": {
  "kernelspec": {
   "display_name": "Python 3",
   "language": "python",
   "name": "python3"
  },
  "language_info": {
   "codemirror_mode": {
    "name": "ipython",
    "version": 3
   },
   "file_extension": ".py",
   "mimetype": "text/x-python",
   "name": "python",
   "nbconvert_exporter": "python",
   "pygments_lexer": "ipython3",
   "version": "3.6.2"
  }
 },
 "nbformat": 4,
 "nbformat_minor": 2
}
