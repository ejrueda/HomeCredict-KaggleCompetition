{
 "cells": [
  {
   "cell_type": "code",
   "execution_count": 1,
   "metadata": {
    "collapsed": true
   },
   "outputs": [],
   "source": [
    "import pandas as pd\n",
    "import numpy as np"
   ]
  },
  {
   "cell_type": "markdown",
   "metadata": {},
   "source": [
    "se importan las tablas tanto de application train como test"
   ]
  },
  {
   "cell_type": "code",
   "execution_count": 2,
   "metadata": {
    "collapsed": true
   },
   "outputs": [],
   "source": [
    "data_train = pd.read_csv('./data/application_train.csv')\n",
    "data_test = pd.read_csv('./data/application_test.csv')"
   ]
  },
  {
   "cell_type": "markdown",
   "metadata": {},
   "source": [
    "como se puede ver se pressenta un desbalance considerable, por ello se tomarán todas las etiquetas de 1 y de cero se tomarán la misma cantidad de 1 + 0.20 del tamaño de las de cero, esto para darle un peso mayor a esta clase"
   ]
  },
  {
   "cell_type": "code",
   "execution_count": 3,
   "metadata": {},
   "outputs": [
    {
     "name": "stdout",
     "output_type": "stream",
     "text": [
      "---- Tamaños originales ----\n",
      "train target 0:  (282686, 122)\n",
      "train target 1:  (24825, 122)\n",
      "---- Tamaños nuevos  ----\n",
      "train target 0:  (282686, 122)\n",
      "train target 1:  (24825, 122)\n"
     ]
    }
   ],
   "source": [
    "data_train_1 = data_train.loc[data_train.loc[data_train.index,'TARGET']==1]\n",
    "data_train_0 = data_train.loc[data_train.loc[data_train.index,'TARGET']==0]\n",
    "\n",
    "print('---- Tamaños originales ----')\n",
    "print('train target 0: ', data_train_0.shape)\n",
    "print('train target 1: ', data_train_1.shape)\n",
    "\n",
    "#data_train_0 = data_train_0[:len(data_train_1)+int(1*len(data_train_1))]\n",
    "\n",
    "print('---- Tamaños nuevos  ----')\n",
    "print('train target 0: ', data_train_0.shape)\n",
    "print('train target 1: ', data_train_1.shape)"
   ]
  },
  {
   "cell_type": "markdown",
   "metadata": {},
   "source": [
    "ahora se concatenan para formar el conjunto de datos de entrenamiento"
   ]
  },
  {
   "cell_type": "code",
   "execution_count": 4,
   "metadata": {},
   "outputs": [
    {
     "data": {
      "text/plain": [
       "((307511, 122), (48744, 121))"
      ]
     },
     "execution_count": 4,
     "metadata": {},
     "output_type": "execute_result"
    }
   ],
   "source": [
    "data_train = pd.concat((data_train_0,data_train_1)).sort_index()\n",
    "data_train.shape, data_test.shape"
   ]
  },
  {
   "cell_type": "markdown",
   "metadata": {},
   "source": [
    "se indexan los dataframes con el id de usuraio"
   ]
  },
  {
   "cell_type": "code",
   "execution_count": 5,
   "metadata": {
    "collapsed": true
   },
   "outputs": [],
   "source": [
    "data_train = data_train.set_index(data_train.SK_ID_CURR)\n",
    "data_test = data_test.set_index(data_test.SK_ID_CURR)\n",
    "\n",
    "data_train = data_train.drop('SK_ID_CURR',axis=1)\n",
    "data_test = data_test.drop('SK_ID_CURR',axis=1)"
   ]
  },
  {
   "cell_type": "markdown",
   "metadata": {},
   "source": [
    "ahora se procede a cargar la tabla de previous application para concatenarla con los datos train y test"
   ]
  },
  {
   "cell_type": "code",
   "execution_count": 6,
   "metadata": {
    "collapsed": true
   },
   "outputs": [],
   "source": [
    "pre_app = pd.read_csv('./data/previous_application.csv')"
   ]
  },
  {
   "cell_type": "code",
   "execution_count": 7,
   "metadata": {
    "collapsed": true
   },
   "outputs": [],
   "source": [
    "pre_app = pre_app.set_index(pre_app.SK_ID_CURR.values)\n",
    "pre_app = pre_app.drop('SK_ID_CURR',axis=1)"
   ]
  },
  {
   "cell_type": "markdown",
   "metadata": {},
   "source": [
    "se codifican los datos, ya que algunos son de tipo object"
   ]
  },
  {
   "cell_type": "code",
   "execution_count": 8,
   "metadata": {
    "collapsed": true
   },
   "outputs": [],
   "source": [
    "%run ./code/label_encoder.py\n",
    "pre_app = label_encoder(pre_app)"
   ]
  },
  {
   "cell_type": "markdown",
   "metadata": {},
   "source": [
    "debido a que un cliente puede tener varias aplicaciones previas, se toma la media de dichas aplicaciones para poder hacer el merge entre las tablas"
   ]
  },
  {
   "cell_type": "code",
   "execution_count": 9,
   "metadata": {
    "collapsed": true
   },
   "outputs": [],
   "source": [
    "pre_app = pre_app.groupby(pre_app.index).mean()"
   ]
  },
  {
   "cell_type": "code",
   "execution_count": 10,
   "metadata": {
    "collapsed": true
   },
   "outputs": [],
   "source": [
    "pre_app = pre_app.drop('SK_ID_PREV',axis=1)"
   ]
  },
  {
   "cell_type": "code",
   "execution_count": 11,
   "metadata": {},
   "outputs": [
    {
     "data": {
      "text/plain": [
       "((307511, 156), (48744, 155))"
      ]
     },
     "execution_count": 11,
     "metadata": {},
     "output_type": "execute_result"
    }
   ],
   "source": [
    "data_train_merge = pd.merge(data_train, pre_app, left_index=True, right_index=True, how='left')\n",
    "data_test_merge = pd.merge(data_test, pre_app, left_index=True, right_index=True, how='left')\n",
    "\n",
    "data_train_merge.shape, data_test_merge.shape"
   ]
  },
  {
   "cell_type": "markdown",
   "metadata": {},
   "source": [
    "ahora se procederá a cargar la tabla de bureau"
   ]
  },
  {
   "cell_type": "code",
   "execution_count": 12,
   "metadata": {},
   "outputs": [
    {
     "data": {
      "text/plain": [
       "(1716428, 17)"
      ]
     },
     "execution_count": 12,
     "metadata": {},
     "output_type": "execute_result"
    }
   ],
   "source": [
    "bureau = pd.read_csv('./data/bureau.csv')\n",
    "bureau.shape"
   ]
  },
  {
   "cell_type": "code",
   "execution_count": 13,
   "metadata": {},
   "outputs": [
    {
     "data": {
      "text/html": [
       "<div>\n",
       "<style>\n",
       "    .dataframe thead tr:only-child th {\n",
       "        text-align: right;\n",
       "    }\n",
       "\n",
       "    .dataframe thead th {\n",
       "        text-align: left;\n",
       "    }\n",
       "\n",
       "    .dataframe tbody tr th {\n",
       "        vertical-align: top;\n",
       "    }\n",
       "</style>\n",
       "<table border=\"1\" class=\"dataframe\">\n",
       "  <thead>\n",
       "    <tr style=\"text-align: right;\">\n",
       "      <th></th>\n",
       "      <th>CREDIT_ACTIVE</th>\n",
       "      <th>CREDIT_CURRENCY</th>\n",
       "      <th>DAYS_CREDIT</th>\n",
       "      <th>CREDIT_DAY_OVERDUE</th>\n",
       "      <th>DAYS_CREDIT_ENDDATE</th>\n",
       "      <th>DAYS_ENDDATE_FACT</th>\n",
       "      <th>AMT_CREDIT_MAX_OVERDUE</th>\n",
       "      <th>CNT_CREDIT_PROLONG</th>\n",
       "      <th>AMT_CREDIT_SUM</th>\n",
       "      <th>AMT_CREDIT_SUM_DEBT</th>\n",
       "      <th>AMT_CREDIT_SUM_LIMIT</th>\n",
       "      <th>AMT_CREDIT_SUM_OVERDUE</th>\n",
       "      <th>CREDIT_TYPE</th>\n",
       "      <th>DAYS_CREDIT_UPDATE</th>\n",
       "      <th>AMT_ANNUITY</th>\n",
       "    </tr>\n",
       "    <tr>\n",
       "      <th>SK_ID_CURR</th>\n",
       "      <th></th>\n",
       "      <th></th>\n",
       "      <th></th>\n",
       "      <th></th>\n",
       "      <th></th>\n",
       "      <th></th>\n",
       "      <th></th>\n",
       "      <th></th>\n",
       "      <th></th>\n",
       "      <th></th>\n",
       "      <th></th>\n",
       "      <th></th>\n",
       "      <th></th>\n",
       "      <th></th>\n",
       "      <th></th>\n",
       "    </tr>\n",
       "  </thead>\n",
       "  <tbody>\n",
       "    <tr>\n",
       "      <th>215354</th>\n",
       "      <td>Closed</td>\n",
       "      <td>currency 1</td>\n",
       "      <td>-497</td>\n",
       "      <td>0</td>\n",
       "      <td>-153.0</td>\n",
       "      <td>-153.0</td>\n",
       "      <td>NaN</td>\n",
       "      <td>0</td>\n",
       "      <td>91323.0</td>\n",
       "      <td>0.0</td>\n",
       "      <td>NaN</td>\n",
       "      <td>0.0</td>\n",
       "      <td>Consumer credit</td>\n",
       "      <td>-131</td>\n",
       "      <td>NaN</td>\n",
       "    </tr>\n",
       "    <tr>\n",
       "      <th>215354</th>\n",
       "      <td>Active</td>\n",
       "      <td>currency 1</td>\n",
       "      <td>-208</td>\n",
       "      <td>0</td>\n",
       "      <td>1075.0</td>\n",
       "      <td>NaN</td>\n",
       "      <td>NaN</td>\n",
       "      <td>0</td>\n",
       "      <td>225000.0</td>\n",
       "      <td>171342.0</td>\n",
       "      <td>NaN</td>\n",
       "      <td>0.0</td>\n",
       "      <td>Credit card</td>\n",
       "      <td>-20</td>\n",
       "      <td>NaN</td>\n",
       "    </tr>\n",
       "    <tr>\n",
       "      <th>215354</th>\n",
       "      <td>Active</td>\n",
       "      <td>currency 1</td>\n",
       "      <td>-203</td>\n",
       "      <td>0</td>\n",
       "      <td>528.0</td>\n",
       "      <td>NaN</td>\n",
       "      <td>NaN</td>\n",
       "      <td>0</td>\n",
       "      <td>464323.5</td>\n",
       "      <td>NaN</td>\n",
       "      <td>NaN</td>\n",
       "      <td>0.0</td>\n",
       "      <td>Consumer credit</td>\n",
       "      <td>-16</td>\n",
       "      <td>NaN</td>\n",
       "    </tr>\n",
       "    <tr>\n",
       "      <th>215354</th>\n",
       "      <td>Active</td>\n",
       "      <td>currency 1</td>\n",
       "      <td>-203</td>\n",
       "      <td>0</td>\n",
       "      <td>NaN</td>\n",
       "      <td>NaN</td>\n",
       "      <td>NaN</td>\n",
       "      <td>0</td>\n",
       "      <td>90000.0</td>\n",
       "      <td>NaN</td>\n",
       "      <td>NaN</td>\n",
       "      <td>0.0</td>\n",
       "      <td>Credit card</td>\n",
       "      <td>-16</td>\n",
       "      <td>NaN</td>\n",
       "    </tr>\n",
       "    <tr>\n",
       "      <th>215354</th>\n",
       "      <td>Active</td>\n",
       "      <td>currency 1</td>\n",
       "      <td>-629</td>\n",
       "      <td>0</td>\n",
       "      <td>1197.0</td>\n",
       "      <td>NaN</td>\n",
       "      <td>77674.5</td>\n",
       "      <td>0</td>\n",
       "      <td>2700000.0</td>\n",
       "      <td>NaN</td>\n",
       "      <td>NaN</td>\n",
       "      <td>0.0</td>\n",
       "      <td>Consumer credit</td>\n",
       "      <td>-21</td>\n",
       "      <td>NaN</td>\n",
       "    </tr>\n",
       "  </tbody>\n",
       "</table>\n",
       "</div>"
      ],
      "text/plain": [
       "           CREDIT_ACTIVE CREDIT_CURRENCY  DAYS_CREDIT  CREDIT_DAY_OVERDUE  \\\n",
       "SK_ID_CURR                                                                  \n",
       "215354            Closed      currency 1         -497                   0   \n",
       "215354            Active      currency 1         -208                   0   \n",
       "215354            Active      currency 1         -203                   0   \n",
       "215354            Active      currency 1         -203                   0   \n",
       "215354            Active      currency 1         -629                   0   \n",
       "\n",
       "            DAYS_CREDIT_ENDDATE  DAYS_ENDDATE_FACT  AMT_CREDIT_MAX_OVERDUE  \\\n",
       "SK_ID_CURR                                                                   \n",
       "215354                   -153.0             -153.0                     NaN   \n",
       "215354                   1075.0                NaN                     NaN   \n",
       "215354                    528.0                NaN                     NaN   \n",
       "215354                      NaN                NaN                     NaN   \n",
       "215354                   1197.0                NaN                 77674.5   \n",
       "\n",
       "            CNT_CREDIT_PROLONG  AMT_CREDIT_SUM  AMT_CREDIT_SUM_DEBT  \\\n",
       "SK_ID_CURR                                                            \n",
       "215354                       0         91323.0                  0.0   \n",
       "215354                       0        225000.0             171342.0   \n",
       "215354                       0        464323.5                  NaN   \n",
       "215354                       0         90000.0                  NaN   \n",
       "215354                       0       2700000.0                  NaN   \n",
       "\n",
       "            AMT_CREDIT_SUM_LIMIT  AMT_CREDIT_SUM_OVERDUE      CREDIT_TYPE  \\\n",
       "SK_ID_CURR                                                                  \n",
       "215354                       NaN                     0.0  Consumer credit   \n",
       "215354                       NaN                     0.0      Credit card   \n",
       "215354                       NaN                     0.0  Consumer credit   \n",
       "215354                       NaN                     0.0      Credit card   \n",
       "215354                       NaN                     0.0  Consumer credit   \n",
       "\n",
       "            DAYS_CREDIT_UPDATE  AMT_ANNUITY  \n",
       "SK_ID_CURR                                   \n",
       "215354                    -131          NaN  \n",
       "215354                     -20          NaN  \n",
       "215354                     -16          NaN  \n",
       "215354                     -16          NaN  \n",
       "215354                     -21          NaN  "
      ]
     },
     "execution_count": 13,
     "metadata": {},
     "output_type": "execute_result"
    }
   ],
   "source": [
    "bureau = bureau.set_index(bureau.columns[0])\n",
    "bureau = bureau.drop('SK_ID_BUREAU', axis=1)\n",
    "bureau.head()"
   ]
  },
  {
   "cell_type": "markdown",
   "metadata": {},
   "source": [
    "se procede a codificar y agrupar por la media"
   ]
  },
  {
   "cell_type": "code",
   "execution_count": 14,
   "metadata": {},
   "outputs": [
    {
     "data": {
      "text/plain": [
       "(305811, 15)"
      ]
     },
     "execution_count": 14,
     "metadata": {},
     "output_type": "execute_result"
    }
   ],
   "source": [
    "bureau = label_encoder(bureau)\n",
    "bureau = bureau.groupby(bureau.index).mean()\n",
    "bureau.shape"
   ]
  },
  {
   "cell_type": "code",
   "execution_count": 15,
   "metadata": {},
   "outputs": [
    {
     "data": {
      "text/html": [
       "<div>\n",
       "<style>\n",
       "    .dataframe thead tr:only-child th {\n",
       "        text-align: right;\n",
       "    }\n",
       "\n",
       "    .dataframe thead th {\n",
       "        text-align: left;\n",
       "    }\n",
       "\n",
       "    .dataframe tbody tr th {\n",
       "        vertical-align: top;\n",
       "    }\n",
       "</style>\n",
       "<table border=\"1\" class=\"dataframe\">\n",
       "  <thead>\n",
       "    <tr style=\"text-align: right;\">\n",
       "      <th></th>\n",
       "      <th>CREDIT_ACTIVE</th>\n",
       "      <th>CREDIT_CURRENCY</th>\n",
       "      <th>DAYS_CREDIT</th>\n",
       "      <th>CREDIT_DAY_OVERDUE</th>\n",
       "      <th>DAYS_CREDIT_ENDDATE</th>\n",
       "      <th>DAYS_ENDDATE_FACT</th>\n",
       "      <th>AMT_CREDIT_MAX_OVERDUE</th>\n",
       "      <th>CNT_CREDIT_PROLONG</th>\n",
       "      <th>AMT_CREDIT_SUM</th>\n",
       "      <th>AMT_CREDIT_SUM_DEBT</th>\n",
       "      <th>AMT_CREDIT_SUM_LIMIT</th>\n",
       "      <th>AMT_CREDIT_SUM_OVERDUE</th>\n",
       "      <th>CREDIT_TYPE</th>\n",
       "      <th>DAYS_CREDIT_UPDATE</th>\n",
       "      <th>AMT_ANNUITY</th>\n",
       "    </tr>\n",
       "    <tr>\n",
       "      <th>SK_ID_CURR</th>\n",
       "      <th></th>\n",
       "      <th></th>\n",
       "      <th></th>\n",
       "      <th></th>\n",
       "      <th></th>\n",
       "      <th></th>\n",
       "      <th></th>\n",
       "      <th></th>\n",
       "      <th></th>\n",
       "      <th></th>\n",
       "      <th></th>\n",
       "      <th></th>\n",
       "      <th></th>\n",
       "      <th></th>\n",
       "      <th></th>\n",
       "    </tr>\n",
       "  </thead>\n",
       "  <tbody>\n",
       "    <tr>\n",
       "      <th>100001</th>\n",
       "      <td>1.142857</td>\n",
       "      <td>0.0</td>\n",
       "      <td>-735.000000</td>\n",
       "      <td>0.0</td>\n",
       "      <td>82.428571</td>\n",
       "      <td>-825.500000</td>\n",
       "      <td>NaN</td>\n",
       "      <td>0.0</td>\n",
       "      <td>207623.571429</td>\n",
       "      <td>85240.928571</td>\n",
       "      <td>0.00000</td>\n",
       "      <td>0.0</td>\n",
       "      <td>3.000000</td>\n",
       "      <td>-93.142857</td>\n",
       "      <td>3545.357143</td>\n",
       "    </tr>\n",
       "    <tr>\n",
       "      <th>100002</th>\n",
       "      <td>1.500000</td>\n",
       "      <td>0.0</td>\n",
       "      <td>-874.000000</td>\n",
       "      <td>0.0</td>\n",
       "      <td>-349.000000</td>\n",
       "      <td>-697.500000</td>\n",
       "      <td>1681.029</td>\n",
       "      <td>0.0</td>\n",
       "      <td>108131.945625</td>\n",
       "      <td>49156.200000</td>\n",
       "      <td>7997.14125</td>\n",
       "      <td>0.0</td>\n",
       "      <td>3.500000</td>\n",
       "      <td>-499.875000</td>\n",
       "      <td>0.000000</td>\n",
       "    </tr>\n",
       "    <tr>\n",
       "      <th>100003</th>\n",
       "      <td>1.500000</td>\n",
       "      <td>0.0</td>\n",
       "      <td>-1400.750000</td>\n",
       "      <td>0.0</td>\n",
       "      <td>-544.500000</td>\n",
       "      <td>-1097.333333</td>\n",
       "      <td>0.000</td>\n",
       "      <td>0.0</td>\n",
       "      <td>254350.125000</td>\n",
       "      <td>0.000000</td>\n",
       "      <td>202500.00000</td>\n",
       "      <td>0.0</td>\n",
       "      <td>3.500000</td>\n",
       "      <td>-816.000000</td>\n",
       "      <td>NaN</td>\n",
       "    </tr>\n",
       "    <tr>\n",
       "      <th>100004</th>\n",
       "      <td>2.000000</td>\n",
       "      <td>0.0</td>\n",
       "      <td>-867.000000</td>\n",
       "      <td>0.0</td>\n",
       "      <td>-488.500000</td>\n",
       "      <td>-532.500000</td>\n",
       "      <td>0.000</td>\n",
       "      <td>0.0</td>\n",
       "      <td>94518.900000</td>\n",
       "      <td>0.000000</td>\n",
       "      <td>0.00000</td>\n",
       "      <td>0.0</td>\n",
       "      <td>3.000000</td>\n",
       "      <td>-532.000000</td>\n",
       "      <td>NaN</td>\n",
       "    </tr>\n",
       "    <tr>\n",
       "      <th>100005</th>\n",
       "      <td>0.666667</td>\n",
       "      <td>0.0</td>\n",
       "      <td>-190.666667</td>\n",
       "      <td>0.0</td>\n",
       "      <td>439.333333</td>\n",
       "      <td>-123.000000</td>\n",
       "      <td>0.000</td>\n",
       "      <td>0.0</td>\n",
       "      <td>219042.000000</td>\n",
       "      <td>189469.500000</td>\n",
       "      <td>0.00000</td>\n",
       "      <td>0.0</td>\n",
       "      <td>3.333333</td>\n",
       "      <td>-54.333333</td>\n",
       "      <td>1420.500000</td>\n",
       "    </tr>\n",
       "  </tbody>\n",
       "</table>\n",
       "</div>"
      ],
      "text/plain": [
       "            CREDIT_ACTIVE  CREDIT_CURRENCY  DAYS_CREDIT  CREDIT_DAY_OVERDUE  \\\n",
       "SK_ID_CURR                                                                    \n",
       "100001           1.142857              0.0  -735.000000                 0.0   \n",
       "100002           1.500000              0.0  -874.000000                 0.0   \n",
       "100003           1.500000              0.0 -1400.750000                 0.0   \n",
       "100004           2.000000              0.0  -867.000000                 0.0   \n",
       "100005           0.666667              0.0  -190.666667                 0.0   \n",
       "\n",
       "            DAYS_CREDIT_ENDDATE  DAYS_ENDDATE_FACT  AMT_CREDIT_MAX_OVERDUE  \\\n",
       "SK_ID_CURR                                                                   \n",
       "100001                82.428571        -825.500000                     NaN   \n",
       "100002              -349.000000        -697.500000                1681.029   \n",
       "100003              -544.500000       -1097.333333                   0.000   \n",
       "100004              -488.500000        -532.500000                   0.000   \n",
       "100005               439.333333        -123.000000                   0.000   \n",
       "\n",
       "            CNT_CREDIT_PROLONG  AMT_CREDIT_SUM  AMT_CREDIT_SUM_DEBT  \\\n",
       "SK_ID_CURR                                                            \n",
       "100001                     0.0   207623.571429         85240.928571   \n",
       "100002                     0.0   108131.945625         49156.200000   \n",
       "100003                     0.0   254350.125000             0.000000   \n",
       "100004                     0.0    94518.900000             0.000000   \n",
       "100005                     0.0   219042.000000        189469.500000   \n",
       "\n",
       "            AMT_CREDIT_SUM_LIMIT  AMT_CREDIT_SUM_OVERDUE  CREDIT_TYPE  \\\n",
       "SK_ID_CURR                                                              \n",
       "100001                   0.00000                     0.0     3.000000   \n",
       "100002                7997.14125                     0.0     3.500000   \n",
       "100003              202500.00000                     0.0     3.500000   \n",
       "100004                   0.00000                     0.0     3.000000   \n",
       "100005                   0.00000                     0.0     3.333333   \n",
       "\n",
       "            DAYS_CREDIT_UPDATE  AMT_ANNUITY  \n",
       "SK_ID_CURR                                   \n",
       "100001              -93.142857  3545.357143  \n",
       "100002             -499.875000     0.000000  \n",
       "100003             -816.000000          NaN  \n",
       "100004             -532.000000          NaN  \n",
       "100005              -54.333333  1420.500000  "
      ]
     },
     "execution_count": 15,
     "metadata": {},
     "output_type": "execute_result"
    }
   ],
   "source": [
    "bureau.head()"
   ]
  },
  {
   "cell_type": "markdown",
   "metadata": {},
   "source": [
    "se procede a juntar con las demas tablas"
   ]
  },
  {
   "cell_type": "code",
   "execution_count": 16,
   "metadata": {},
   "outputs": [
    {
     "data": {
      "text/plain": [
       "((307511, 171), (48744, 170))"
      ]
     },
     "execution_count": 16,
     "metadata": {},
     "output_type": "execute_result"
    }
   ],
   "source": [
    "data_train_merge = pd.merge(data_train_merge, bureau, left_index=True, right_index=True, how='left')\n",
    "data_test_merge = pd.merge(data_test_merge, bureau, left_index=True, right_index=True, how='left')\n",
    "\n",
    "data_train_merge.shape, data_test_merge.shape"
   ]
  },
  {
   "cell_type": "markdown",
   "metadata": {},
   "source": [
    "ahora se procede a cargar la tabla de credict card balance.."
   ]
  },
  {
   "cell_type": "code",
   "execution_count": 17,
   "metadata": {
    "collapsed": true
   },
   "outputs": [],
   "source": [
    "credict_cb = pd.read_csv('./data/credit_card_balance.csv')"
   ]
  },
  {
   "cell_type": "code",
   "execution_count": 18,
   "metadata": {},
   "outputs": [
    {
     "name": "stdout",
     "output_type": "stream",
     "text": [
      "(3840312, 22)\n"
     ]
    }
   ],
   "source": [
    "credict_cb = credict_cb.set_index(credict_cb.columns[1])\n",
    "credcit_cb = credict_cb.drop('SK_ID_PREV',axis=1)\n",
    "print(credict_cb.shape)"
   ]
  },
  {
   "cell_type": "markdown",
   "metadata": {},
   "source": [
    "se codifica y se le saca la media ya que hay clientes con mas de un registro"
   ]
  },
  {
   "cell_type": "code",
   "execution_count": 19,
   "metadata": {},
   "outputs": [
    {
     "data": {
      "text/plain": [
       "(103558, 22)"
      ]
     },
     "execution_count": 19,
     "metadata": {},
     "output_type": "execute_result"
    }
   ],
   "source": [
    "credict_cb = label_encoder(credict_cb)\n",
    "credict_cb = credict_cb.groupby(credict_cb.index).mean()\n",
    "credict_cb.shape"
   ]
  },
  {
   "cell_type": "markdown",
   "metadata": {},
   "source": [
    "se hace el merge con los datos anteriores..."
   ]
  },
  {
   "cell_type": "code",
   "execution_count": 20,
   "metadata": {},
   "outputs": [
    {
     "data": {
      "text/plain": [
       "((307511, 193), (48744, 192))"
      ]
     },
     "execution_count": 20,
     "metadata": {},
     "output_type": "execute_result"
    }
   ],
   "source": [
    "data_train_merge = pd.merge(data_train_merge, credict_cb, left_index=True, right_index=True, how='left')\n",
    "data_test_merge = pd.merge(data_test_merge, credict_cb, left_index=True, right_index=True, how='left')\n",
    "\n",
    "data_train_merge.shape, data_test_merge.shape"
   ]
  },
  {
   "cell_type": "markdown",
   "metadata": {},
   "source": [
    "ahora se procede a cargar el posh cash balance..."
   ]
  },
  {
   "cell_type": "code",
   "execution_count": 21,
   "metadata": {},
   "outputs": [
    {
     "data": {
      "text/plain": [
       "(10001358, 6)"
      ]
     },
     "execution_count": 21,
     "metadata": {},
     "output_type": "execute_result"
    }
   ],
   "source": [
    "posh_cb = pd.read_csv('./data/POS_CASH_balance.csv')\n",
    "posh_cb = posh_cb.set_index(posh_cb.columns[1])\n",
    "posh_cb = posh_cb.drop('SK_ID_PREV',axis=1)\n",
    "posh_cb.shape"
   ]
  },
  {
   "cell_type": "markdown",
   "metadata": {},
   "source": [
    "se codifica y se saca la media"
   ]
  },
  {
   "cell_type": "code",
   "execution_count": 22,
   "metadata": {},
   "outputs": [
    {
     "data": {
      "text/plain": [
       "(337252, 6)"
      ]
     },
     "execution_count": 22,
     "metadata": {},
     "output_type": "execute_result"
    }
   ],
   "source": [
    "posh_cb = label_encoder(posh_cb)\n",
    "posh_cb = posh_cb.groupby(posh_cb.index).mean()\n",
    "posh_cb.shape"
   ]
  },
  {
   "cell_type": "markdown",
   "metadata": {},
   "source": [
    "se unen con los datos anteriores..."
   ]
  },
  {
   "cell_type": "code",
   "execution_count": 23,
   "metadata": {},
   "outputs": [
    {
     "data": {
      "text/plain": [
       "((307511, 199), (48744, 198))"
      ]
     },
     "execution_count": 23,
     "metadata": {},
     "output_type": "execute_result"
    }
   ],
   "source": [
    "data_train_merge = pd.merge(data_train_merge, posh_cb, left_index=True, right_index=True, how='left')\n",
    "data_test_merge = pd.merge(data_test_merge, posh_cb, left_index=True, right_index=True, how='left')\n",
    "\n",
    "data_train_merge.shape, data_test_merge.shape"
   ]
  },
  {
   "cell_type": "code",
   "execution_count": 24,
   "metadata": {
    "collapsed": true
   },
   "outputs": [],
   "source": [
    "#lo mismo para el data_train\n",
    "col_mean_train = (data_train_merge.loc[:,data_train_merge.count()<data_train_merge.shape[0]].min())\n",
    "dict_col_mean_train = {}\n",
    "for i in range(len(col_mean_train)):\n",
    "    dict_col_mean_train[col_mean_train.index[i]] = col_mean_train[i]\n",
    "    \n",
    "#lo mismo para el data_test\n",
    "col_mean_test = (data_test_merge.loc[:,data_test_merge.count()<data_test_merge.shape[0]].min())\n",
    "dict_col_mean_test = {}\n",
    "for i in range(len(col_mean_test)):\n",
    "    dict_col_mean_test[col_mean_test.index[i]] = col_mean_test[i]"
   ]
  },
  {
   "cell_type": "code",
   "execution_count": 25,
   "metadata": {
    "scrolled": true
   },
   "outputs": [
    {
     "data": {
      "text/plain": [
       "AMT_ANNUITY_x                   1.615500e+03\n",
       "AMT_GOODS_PRICE_x               4.050000e+04\n",
       "OWN_CAR_AGE                     0.000000e+00\n",
       "CNT_FAM_MEMBERS                 1.000000e+00\n",
       "EXT_SOURCE_1                    1.456813e-02\n",
       "EXT_SOURCE_2                    8.173617e-08\n",
       "EXT_SOURCE_3                    5.272652e-04\n",
       "APARTMENTS_AVG                  0.000000e+00\n",
       "BASEMENTAREA_AVG                0.000000e+00\n",
       "YEARS_BEGINEXPLUATATION_AVG     0.000000e+00\n",
       "YEARS_BUILD_AVG                 0.000000e+00\n",
       "COMMONAREA_AVG                  0.000000e+00\n",
       "ELEVATORS_AVG                   0.000000e+00\n",
       "ENTRANCES_AVG                   0.000000e+00\n",
       "FLOORSMAX_AVG                   0.000000e+00\n",
       "FLOORSMIN_AVG                   0.000000e+00\n",
       "LANDAREA_AVG                    0.000000e+00\n",
       "LIVINGAPARTMENTS_AVG            0.000000e+00\n",
       "LIVINGAREA_AVG                  0.000000e+00\n",
       "NONLIVINGAPARTMENTS_AVG         0.000000e+00\n",
       "NONLIVINGAREA_AVG               0.000000e+00\n",
       "APARTMENTS_MODE                 0.000000e+00\n",
       "BASEMENTAREA_MODE               0.000000e+00\n",
       "YEARS_BEGINEXPLUATATION_MODE    0.000000e+00\n",
       "YEARS_BUILD_MODE                0.000000e+00\n",
       "COMMONAREA_MODE                 0.000000e+00\n",
       "ELEVATORS_MODE                  0.000000e+00\n",
       "ENTRANCES_MODE                  0.000000e+00\n",
       "FLOORSMAX_MODE                  0.000000e+00\n",
       "FLOORSMIN_MODE                  0.000000e+00\n",
       "                                    ...     \n",
       "DAYS_CREDIT_UPDATE             -4.189000e+04\n",
       "AMT_ANNUITY                     0.000000e+00\n",
       "SK_ID_PREV                      1.000018e+06\n",
       "MONTHS_BALANCE_x               -5.017978e+01\n",
       "AMT_BALANCE                    -2.930233e+03\n",
       "AMT_CREDIT_LIMIT_ACTUAL         0.000000e+00\n",
       "AMT_DRAWINGS_ATM_CURRENT        0.000000e+00\n",
       "AMT_DRAWINGS_CURRENT            0.000000e+00\n",
       "AMT_DRAWINGS_OTHER_CURRENT      0.000000e+00\n",
       "AMT_DRAWINGS_POS_CURRENT        0.000000e+00\n",
       "AMT_INST_MIN_REGULARITY         0.000000e+00\n",
       "AMT_PAYMENT_CURRENT             0.000000e+00\n",
       "AMT_PAYMENT_TOTAL_CURRENT       0.000000e+00\n",
       "AMT_RECEIVABLE_PRINCIPAL       -2.930233e+03\n",
       "AMT_RECIVABLE                  -2.930233e+03\n",
       "AMT_TOTAL_RECEIVABLE           -2.930233e+03\n",
       "CNT_DRAWINGS_ATM_CURRENT        0.000000e+00\n",
       "CNT_DRAWINGS_CURRENT            0.000000e+00\n",
       "CNT_DRAWINGS_OTHER_CURRENT      0.000000e+00\n",
       "CNT_DRAWINGS_POS_CURRENT        0.000000e+00\n",
       "CNT_INSTALMENT_MATURE_CUM       0.000000e+00\n",
       "NAME_CONTRACT_STATUS_y          0.000000e+00\n",
       "SK_DPD_x                        0.000000e+00\n",
       "SK_DPD_DEF_x                    0.000000e+00\n",
       "MONTHS_BALANCE_y               -9.600000e+01\n",
       "CNT_INSTALMENT                  1.000000e+00\n",
       "CNT_INSTALMENT_FUTURE           0.000000e+00\n",
       "NAME_CONTRACT_STATUS            0.000000e+00\n",
       "SK_DPD_y                        0.000000e+00\n",
       "SK_DPD_DEF_y                    0.000000e+00\n",
       "Length: 139, dtype: float64"
      ]
     },
     "execution_count": 25,
     "metadata": {},
     "output_type": "execute_result"
    }
   ],
   "source": [
    "col_mean_train"
   ]
  },
  {
   "cell_type": "code",
   "execution_count": 26,
   "metadata": {
    "collapsed": true
   },
   "outputs": [],
   "source": [
    "data_train_merge_t = data_train_merge.fillna(value=dict_col_mean_train)\n",
    "data_test_merge_t = data_test_merge.fillna(value=dict_col_mean_test)"
   ]
  },
  {
   "cell_type": "code",
   "execution_count": 27,
   "metadata": {},
   "outputs": [
    {
     "data": {
      "text/plain": [
       "((307511, 198), (307511,), (48744, 198))"
      ]
     },
     "execution_count": 27,
     "metadata": {},
     "output_type": "execute_result"
    }
   ],
   "source": [
    "X_train = data_train_merge_t[[col for col in data_train_merge_t.columns if col!='TARGET']]\n",
    "y_train = data_train_merge_t.TARGET\n",
    "\n",
    "X_test = data_test_merge_t\n",
    "\n",
    "X_train.shape, y_train.shape, X_test.shape"
   ]
  },
  {
   "cell_type": "markdown",
   "metadata": {},
   "source": [
    "falta codificar los datos de test, train"
   ]
  },
  {
   "cell_type": "code",
   "execution_count": 28,
   "metadata": {},
   "outputs": [
    {
     "name": "stderr",
     "output_type": "stream",
     "text": [
      "/home/edwin/anaconda3/lib/python3.6/site-packages/pandas/core/indexing.py:517: SettingWithCopyWarning: \n",
      "A value is trying to be set on a copy of a slice from a DataFrame.\n",
      "Try using .loc[row_indexer,col_indexer] = value instead\n",
      "\n",
      "See the caveats in the documentation: http://pandas.pydata.org/pandas-docs/stable/indexing.html#indexing-view-versus-copy\n",
      "  self.obj[item] = s\n"
     ]
    }
   ],
   "source": [
    "X_train = label_encoder(X_train)\n",
    "X_test = label_encoder(X_test)"
   ]
  },
  {
   "cell_type": "code",
   "execution_count": 31,
   "metadata": {},
   "outputs": [
    {
     "data": {
      "text/html": [
       "<div>\n",
       "<style>\n",
       "    .dataframe thead tr:only-child th {\n",
       "        text-align: right;\n",
       "    }\n",
       "\n",
       "    .dataframe thead th {\n",
       "        text-align: left;\n",
       "    }\n",
       "\n",
       "    .dataframe tbody tr th {\n",
       "        vertical-align: top;\n",
       "    }\n",
       "</style>\n",
       "<table border=\"1\" class=\"dataframe\">\n",
       "  <thead>\n",
       "    <tr style=\"text-align: right;\">\n",
       "      <th></th>\n",
       "      <th>NAME_CONTRACT_TYPE_x</th>\n",
       "      <th>CODE_GENDER</th>\n",
       "      <th>FLAG_OWN_CAR</th>\n",
       "      <th>FLAG_OWN_REALTY</th>\n",
       "      <th>CNT_CHILDREN</th>\n",
       "      <th>AMT_INCOME_TOTAL</th>\n",
       "      <th>AMT_CREDIT_x</th>\n",
       "      <th>AMT_ANNUITY_x</th>\n",
       "      <th>AMT_GOODS_PRICE_x</th>\n",
       "      <th>NAME_TYPE_SUITE_x</th>\n",
       "      <th>...</th>\n",
       "      <th>CNT_INSTALMENT_MATURE_CUM</th>\n",
       "      <th>NAME_CONTRACT_STATUS_y</th>\n",
       "      <th>SK_DPD_x</th>\n",
       "      <th>SK_DPD_DEF_x</th>\n",
       "      <th>MONTHS_BALANCE_y</th>\n",
       "      <th>CNT_INSTALMENT</th>\n",
       "      <th>CNT_INSTALMENT_FUTURE</th>\n",
       "      <th>NAME_CONTRACT_STATUS</th>\n",
       "      <th>SK_DPD_y</th>\n",
       "      <th>SK_DPD_DEF_y</th>\n",
       "    </tr>\n",
       "    <tr>\n",
       "      <th>SK_ID_CURR</th>\n",
       "      <th></th>\n",
       "      <th></th>\n",
       "      <th></th>\n",
       "      <th></th>\n",
       "      <th></th>\n",
       "      <th></th>\n",
       "      <th></th>\n",
       "      <th></th>\n",
       "      <th></th>\n",
       "      <th></th>\n",
       "      <th></th>\n",
       "      <th></th>\n",
       "      <th></th>\n",
       "      <th></th>\n",
       "      <th></th>\n",
       "      <th></th>\n",
       "      <th></th>\n",
       "      <th></th>\n",
       "      <th></th>\n",
       "      <th></th>\n",
       "      <th></th>\n",
       "    </tr>\n",
       "  </thead>\n",
       "  <tbody>\n",
       "    <tr>\n",
       "      <th>100002</th>\n",
       "      <td>0</td>\n",
       "      <td>1</td>\n",
       "      <td>0</td>\n",
       "      <td>1</td>\n",
       "      <td>0</td>\n",
       "      <td>202500.0</td>\n",
       "      <td>406597.5</td>\n",
       "      <td>24700.5</td>\n",
       "      <td>351000.0</td>\n",
       "      <td>6</td>\n",
       "      <td>...</td>\n",
       "      <td>0.0</td>\n",
       "      <td>0.0</td>\n",
       "      <td>0.0</td>\n",
       "      <td>0.0</td>\n",
       "      <td>-10.000000</td>\n",
       "      <td>24.000000</td>\n",
       "      <td>15.000000</td>\n",
       "      <td>0.000000</td>\n",
       "      <td>0.0</td>\n",
       "      <td>0.0</td>\n",
       "    </tr>\n",
       "    <tr>\n",
       "      <th>100003</th>\n",
       "      <td>0</td>\n",
       "      <td>0</td>\n",
       "      <td>0</td>\n",
       "      <td>0</td>\n",
       "      <td>0</td>\n",
       "      <td>270000.0</td>\n",
       "      <td>1293502.5</td>\n",
       "      <td>35698.5</td>\n",
       "      <td>1129500.0</td>\n",
       "      <td>1</td>\n",
       "      <td>...</td>\n",
       "      <td>0.0</td>\n",
       "      <td>0.0</td>\n",
       "      <td>0.0</td>\n",
       "      <td>0.0</td>\n",
       "      <td>-43.785714</td>\n",
       "      <td>10.107143</td>\n",
       "      <td>5.785714</td>\n",
       "      <td>0.285714</td>\n",
       "      <td>0.0</td>\n",
       "      <td>0.0</td>\n",
       "    </tr>\n",
       "    <tr>\n",
       "      <th>100004</th>\n",
       "      <td>1</td>\n",
       "      <td>1</td>\n",
       "      <td>1</td>\n",
       "      <td>1</td>\n",
       "      <td>0</td>\n",
       "      <td>67500.0</td>\n",
       "      <td>135000.0</td>\n",
       "      <td>6750.0</td>\n",
       "      <td>135000.0</td>\n",
       "      <td>6</td>\n",
       "      <td>...</td>\n",
       "      <td>0.0</td>\n",
       "      <td>0.0</td>\n",
       "      <td>0.0</td>\n",
       "      <td>0.0</td>\n",
       "      <td>-25.500000</td>\n",
       "      <td>3.750000</td>\n",
       "      <td>2.250000</td>\n",
       "      <td>1.000000</td>\n",
       "      <td>0.0</td>\n",
       "      <td>0.0</td>\n",
       "    </tr>\n",
       "    <tr>\n",
       "      <th>100006</th>\n",
       "      <td>0</td>\n",
       "      <td>0</td>\n",
       "      <td>0</td>\n",
       "      <td>1</td>\n",
       "      <td>0</td>\n",
       "      <td>135000.0</td>\n",
       "      <td>312682.5</td>\n",
       "      <td>29686.5</td>\n",
       "      <td>297000.0</td>\n",
       "      <td>6</td>\n",
       "      <td>...</td>\n",
       "      <td>0.0</td>\n",
       "      <td>0.0</td>\n",
       "      <td>0.0</td>\n",
       "      <td>0.0</td>\n",
       "      <td>-9.619048</td>\n",
       "      <td>12.000000</td>\n",
       "      <td>8.650000</td>\n",
       "      <td>0.666667</td>\n",
       "      <td>0.0</td>\n",
       "      <td>0.0</td>\n",
       "    </tr>\n",
       "    <tr>\n",
       "      <th>100007</th>\n",
       "      <td>0</td>\n",
       "      <td>1</td>\n",
       "      <td>0</td>\n",
       "      <td>1</td>\n",
       "      <td>0</td>\n",
       "      <td>121500.0</td>\n",
       "      <td>513000.0</td>\n",
       "      <td>21865.5</td>\n",
       "      <td>513000.0</td>\n",
       "      <td>6</td>\n",
       "      <td>...</td>\n",
       "      <td>0.0</td>\n",
       "      <td>0.0</td>\n",
       "      <td>0.0</td>\n",
       "      <td>0.0</td>\n",
       "      <td>-33.636364</td>\n",
       "      <td>15.333333</td>\n",
       "      <td>8.969697</td>\n",
       "      <td>0.287879</td>\n",
       "      <td>0.0</td>\n",
       "      <td>0.0</td>\n",
       "    </tr>\n",
       "  </tbody>\n",
       "</table>\n",
       "<p>5 rows × 198 columns</p>\n",
       "</div>"
      ],
      "text/plain": [
       "            NAME_CONTRACT_TYPE_x  CODE_GENDER  FLAG_OWN_CAR  FLAG_OWN_REALTY  \\\n",
       "SK_ID_CURR                                                                     \n",
       "100002                         0            1             0                1   \n",
       "100003                         0            0             0                0   \n",
       "100004                         1            1             1                1   \n",
       "100006                         0            0             0                1   \n",
       "100007                         0            1             0                1   \n",
       "\n",
       "            CNT_CHILDREN  AMT_INCOME_TOTAL  AMT_CREDIT_x  AMT_ANNUITY_x  \\\n",
       "SK_ID_CURR                                                                \n",
       "100002                 0          202500.0      406597.5        24700.5   \n",
       "100003                 0          270000.0     1293502.5        35698.5   \n",
       "100004                 0           67500.0      135000.0         6750.0   \n",
       "100006                 0          135000.0      312682.5        29686.5   \n",
       "100007                 0          121500.0      513000.0        21865.5   \n",
       "\n",
       "            AMT_GOODS_PRICE_x  NAME_TYPE_SUITE_x      ...       \\\n",
       "SK_ID_CURR                                            ...        \n",
       "100002               351000.0                  6      ...        \n",
       "100003              1129500.0                  1      ...        \n",
       "100004               135000.0                  6      ...        \n",
       "100006               297000.0                  6      ...        \n",
       "100007               513000.0                  6      ...        \n",
       "\n",
       "            CNT_INSTALMENT_MATURE_CUM  NAME_CONTRACT_STATUS_y  SK_DPD_x  \\\n",
       "SK_ID_CURR                                                                \n",
       "100002                            0.0                     0.0       0.0   \n",
       "100003                            0.0                     0.0       0.0   \n",
       "100004                            0.0                     0.0       0.0   \n",
       "100006                            0.0                     0.0       0.0   \n",
       "100007                            0.0                     0.0       0.0   \n",
       "\n",
       "            SK_DPD_DEF_x  MONTHS_BALANCE_y  CNT_INSTALMENT  \\\n",
       "SK_ID_CURR                                                   \n",
       "100002               0.0        -10.000000       24.000000   \n",
       "100003               0.0        -43.785714       10.107143   \n",
       "100004               0.0        -25.500000        3.750000   \n",
       "100006               0.0         -9.619048       12.000000   \n",
       "100007               0.0        -33.636364       15.333333   \n",
       "\n",
       "            CNT_INSTALMENT_FUTURE  NAME_CONTRACT_STATUS  SK_DPD_y  \\\n",
       "SK_ID_CURR                                                          \n",
       "100002                  15.000000              0.000000       0.0   \n",
       "100003                   5.785714              0.285714       0.0   \n",
       "100004                   2.250000              1.000000       0.0   \n",
       "100006                   8.650000              0.666667       0.0   \n",
       "100007                   8.969697              0.287879       0.0   \n",
       "\n",
       "            SK_DPD_DEF_y  \n",
       "SK_ID_CURR                \n",
       "100002               0.0  \n",
       "100003               0.0  \n",
       "100004               0.0  \n",
       "100006               0.0  \n",
       "100007               0.0  \n",
       "\n",
       "[5 rows x 198 columns]"
      ]
     },
     "execution_count": 31,
     "metadata": {},
     "output_type": "execute_result"
    }
   ],
   "source": [
    "X_train.head()"
   ]
  },
  {
   "cell_type": "code",
   "execution_count": null,
   "metadata": {
    "collapsed": true
   },
   "outputs": [],
   "source": []
  },
  {
   "cell_type": "code",
   "execution_count": null,
   "metadata": {
    "collapsed": true
   },
   "outputs": [],
   "source": []
  },
  {
   "cell_type": "code",
   "execution_count": null,
   "metadata": {
    "collapsed": true
   },
   "outputs": [],
   "source": []
  },
  {
   "cell_type": "code",
   "execution_count": 29,
   "metadata": {},
   "outputs": [
    {
     "name": "stdout",
     "output_type": "stream",
     "text": [
      "      Iter       Train Loss   Remaining Time \n",
      "         1           0.5331           12.44m\n",
      "         2           0.5238           11.96m\n",
      "         3           0.5176           11.58m\n",
      "         4           0.5127           11.67m\n",
      "         5           0.5095           11.47m\n",
      "         6           0.5063           11.56m\n",
      "         7           0.5044           11.53m\n",
      "         8           0.5024           11.45m\n",
      "         9           0.5012           11.32m\n",
      "        10           0.4997           11.22m\n",
      "        20           0.4894           10.08m\n",
      "        30           0.4841            9.10m\n",
      "        40           0.4805            8.17m\n",
      "        50           0.4775            7.41m\n",
      "        60           0.4750            6.65m\n",
      "        70           0.4732            5.86m\n",
      "        80           0.4714            5.11m\n",
      "        90           0.4699            4.34m\n",
      "       100           0.4681            3.61m\n"
     ]
    },
    {
     "data": {
      "text/plain": [
       "GradientBoostingClassifier(criterion='friedman_mse', init=None,\n",
       "              learning_rate=0.5, loss='deviance', max_depth=3,\n",
       "              max_features=None, max_leaf_nodes=None,\n",
       "              min_impurity_decrease=0.0, min_impurity_split=None,\n",
       "              min_samples_leaf=1, min_samples_split=2,\n",
       "              min_weight_fraction_leaf=0.0, n_estimators=150,\n",
       "              presort='auto', random_state=None, subsample=1.0, verbose=1,\n",
       "              warm_start=False)"
      ]
     },
     "execution_count": 29,
     "metadata": {},
     "output_type": "execute_result"
    }
   ],
   "source": [
    "from sklearn.ensemble import GradientBoostingClassifier\n",
    "\n",
    "GBC = GradientBoostingClassifier(learning_rate=.5, n_estimators=150, verbose=1)\n",
    "GBC.fit(X_train, y_train)"
   ]
  },
  {
   "cell_type": "code",
   "execution_count": 30,
   "metadata": {},
   "outputs": [
    {
     "data": {
      "text/plain": [
       "0.92244179882996058"
      ]
     },
     "execution_count": 30,
     "metadata": {},
     "output_type": "execute_result"
    }
   ],
   "source": [
    "GBC.score(X_train, y_train)"
   ]
  },
  {
   "cell_type": "code",
   "execution_count": 31,
   "metadata": {
    "collapsed": true
   },
   "outputs": [],
   "source": [
    "predict = GBC.predict_proba(X_test)[:,1]"
   ]
  },
  {
   "cell_type": "code",
   "execution_count": 32,
   "metadata": {},
   "outputs": [
    {
     "data": {
      "text/plain": [
       "array([ 0.05298438,  0.10376975,  0.02468615, ...,  0.02355627,\n",
       "        0.07138417,  0.18053324])"
      ]
     },
     "execution_count": 32,
     "metadata": {},
     "output_type": "execute_result"
    }
   ],
   "source": [
    "predict"
   ]
  },
  {
   "cell_type": "markdown",
   "metadata": {},
   "source": [
    "### Mejor Score"
   ]
  },
  {
   "cell_type": "code",
   "execution_count": 33,
   "metadata": {
    "collapsed": true
   },
   "outputs": [],
   "source": [
    "#sin correlación de datos\n",
    "result = pd.DataFrame(data=predict, index=data_test_merge.index, columns=['TARGET'])\n",
    "result.index.name = 'SK_ID_CURR'\n",
    "result.to_csv('./results/submission_test_51.csv')"
   ]
  },
  {
   "cell_type": "code",
   "execution_count": 34,
   "metadata": {},
   "outputs": [
    {
     "data": {
      "text/plain": [
       "0"
      ]
     },
     "execution_count": 34,
     "metadata": {},
     "output_type": "execute_result"
    }
   ],
   "source": [
    "sum(X_train.isnull().sum().values)"
   ]
  },
  {
   "cell_type": "code",
   "execution_count": 30,
   "metadata": {},
   "outputs": [
    {
     "data": {
      "text/plain": [
       "LGBMClassifier(boosting_type='gbdt', class_weight=None, colsample_bytree=1.0,\n",
       "        learning_rate=0.1, max_depth=-1, min_child_samples=20,\n",
       "        min_child_weight=0.001, min_split_gain=0.0, n_estimators=100,\n",
       "        n_jobs=-1, num_leaves=31, objective=None, random_state=None,\n",
       "        reg_alpha=0.0, reg_lambda=0.0, silent=True, subsample=1.0,\n",
       "        subsample_for_bin=200000, subsample_freq=1)"
      ]
     },
     "execution_count": 30,
     "metadata": {},
     "output_type": "execute_result"
    }
   ],
   "source": [
    "import lightgbm as lgb\n",
    "\n",
    "clf = lgb.LGBMClassifier()\n",
    "clf.fit(X_train, y_train)"
   ]
  },
  {
   "cell_type": "code",
   "execution_count": 31,
   "metadata": {},
   "outputs": [
    {
     "data": {
      "text/plain": [
       "0.9212093225933381"
      ]
     },
     "execution_count": 31,
     "metadata": {},
     "output_type": "execute_result"
    }
   ],
   "source": [
    "clf.score(X_train, y_train)"
   ]
  },
  {
   "cell_type": "code",
   "execution_count": 33,
   "metadata": {
    "collapsed": true
   },
   "outputs": [],
   "source": [
    "predict = clf.predict_proba(X_test)[:,1]"
   ]
  },
  {
   "cell_type": "code",
   "execution_count": 34,
   "metadata": {},
   "outputs": [
    {
     "data": {
      "text/plain": [
       "array([ 0.04793516,  0.10525869,  0.02678388, ...,  0.0217018 ,\n",
       "        0.05970344,  0.22352771])"
      ]
     },
     "execution_count": 34,
     "metadata": {},
     "output_type": "execute_result"
    }
   ],
   "source": [
    "predict"
   ]
  },
  {
   "cell_type": "code",
   "execution_count": 35,
   "metadata": {
    "collapsed": true
   },
   "outputs": [],
   "source": [
    "#sin correlación de datos\n",
    "result = pd.DataFrame(data=predict, index=data_test_merge.index, columns=['TARGET'])\n",
    "result.index.name = 'SK_ID_CURR'\n",
    "result.to_csv('./results/submission_test_52.csv')"
   ]
  },
  {
   "cell_type": "markdown",
   "metadata": {},
   "source": [
    "agregando columnas"
   ]
  },
  {
   "cell_type": "code",
   "execution_count": 39,
   "metadata": {},
   "outputs": [
    {
     "name": "stderr",
     "output_type": "stream",
     "text": [
      "/home/edwin/anaconda3/lib/python3.6/site-packages/ipykernel_launcher.py:1: SettingWithCopyWarning: \n",
      "A value is trying to be set on a copy of a slice from a DataFrame.\n",
      "Try using .loc[row_indexer,col_indexer] = value instead\n",
      "\n",
      "See the caveats in the documentation: http://pandas.pydata.org/pandas-docs/stable/indexing.html#indexing-view-versus-copy\n",
      "  \"\"\"Entry point for launching an IPython kernel.\n"
     ]
    }
   ],
   "source": [
    "X_train['DAYS_BIRTH'] = np.abs(X_train['DAYS_BIRTH'])\n",
    "X_test['DAYS_BIRTH'] = np.abs(X_test['DAYS_BIRTH'])"
   ]
  },
  {
   "cell_type": "code",
   "execution_count": 43,
   "metadata": {},
   "outputs": [
    {
     "data": {
      "text/plain": [
       "LGBMClassifier(boosting_type='gbdt', class_weight=None, colsample_bytree=1.0,\n",
       "        learning_rate=0.1, max_depth=-1, min_child_samples=20,\n",
       "        min_child_weight=0.001, min_split_gain=0.0, n_estimators=100,\n",
       "        n_jobs=-1, num_leaves=31, objective=None, random_state=None,\n",
       "        reg_alpha=0.0, reg_lambda=0.0, silent=True, subsample=1.0,\n",
       "        subsample_for_bin=200000, subsample_freq=1)"
      ]
     },
     "execution_count": 43,
     "metadata": {},
     "output_type": "execute_result"
    }
   ],
   "source": [
    "import lightgbm as lgb\n",
    "\n",
    "clf = lgb.LGBMClassifier()\n",
    "clf.fit(X_train, y_train)"
   ]
  },
  {
   "cell_type": "code",
   "execution_count": 44,
   "metadata": {},
   "outputs": [
    {
     "data": {
      "text/plain": [
       "0.92114103235331424"
      ]
     },
     "execution_count": 44,
     "metadata": {},
     "output_type": "execute_result"
    }
   ],
   "source": [
    "clf.score(X_train, y_train)"
   ]
  },
  {
   "cell_type": "code",
   "execution_count": 45,
   "metadata": {
    "collapsed": true
   },
   "outputs": [],
   "source": [
    "predict = clf.predict_proba(X_test)[:,1]"
   ]
  },
  {
   "cell_type": "code",
   "execution_count": 46,
   "metadata": {},
   "outputs": [
    {
     "data": {
      "text/plain": [
       "array([ 0.03858384,  0.10711838,  0.02701485, ...,  0.02260058,\n",
       "        0.05691228,  0.2396377 ])"
      ]
     },
     "execution_count": 46,
     "metadata": {},
     "output_type": "execute_result"
    }
   ],
   "source": [
    "predict"
   ]
  },
  {
   "cell_type": "code",
   "execution_count": 47,
   "metadata": {
    "collapsed": true
   },
   "outputs": [],
   "source": [
    "#sin correlación de datos\n",
    "result = pd.DataFrame(data=predict, index=data_test_merge.index, columns=['TARGET'])\n",
    "result.index.name = 'SK_ID_CURR'\n",
    "result.to_csv('./results/submission_test_53.csv')"
   ]
  },
  {
   "cell_type": "code",
   "execution_count": null,
   "metadata": {
    "collapsed": true
   },
   "outputs": [],
   "source": []
  },
  {
   "cell_type": "code",
   "execution_count": 50,
   "metadata": {},
   "outputs": [
    {
     "data": {
      "text/plain": [
       "SK_ID_CURR\n",
       "100002   -25.920548\n",
       "100003   -45.931507\n",
       "100004   -52.180822\n",
       "100006   -52.068493\n",
       "100007   -54.608219\n",
       "dtype: float64"
      ]
     },
     "execution_count": 50,
     "metadata": {},
     "output_type": "execute_result"
    }
   ],
   "source": [
    "(X_train['OWN_CAR_AGE'] - (X_train['OWN_CAR_AGE'] - (X_train['DAYS_BIRTH']/365))).head()"
   ]
  },
  {
   "cell_type": "markdown",
   "metadata": {},
   "source": [
    "ahora si se prueba agregando unas columnas"
   ]
  },
  {
   "cell_type": "code",
   "execution_count": 55,
   "metadata": {
    "collapsed": true
   },
   "outputs": [],
   "source": [
    "#X_train['NEW_CAR_TO_BIRTH_RATIO'] = X_train['OWN_CAR_AGE'] / X_train['DAYS_BIRTH']\n",
    "X_train['DAYS_FOR_NEW_CAR'] = X_train['OWN_CAR_AGE'] - (X_train['OWN_CAR_AGE'] - (X_train['DAYS_BIRTH']/365))\n",
    "X_train['NEW_CAR_TO_BIRTH_RATIO'] = X_train['OWN_CAR_AGE'] / (X_train['DAYS_BIRTH']/365)\n",
    "X_train['NEW_CAR_TO_EMPLOY_RATIO'] = X_train['OWN_CAR_AGE'] / X_train['DAYS_EMPLOYED']\n",
    "X_train['NEW_PHONE_TO_BIRTH_RATIO'] = X_train['DAYS_LAST_PHONE_CHANGE'] / X_train['DAYS_BIRTH']\n",
    "X_train['NEW_PHONE_TO_BIRTH_RATIO_EMPLOYER'] = X_train['DAYS_LAST_PHONE_CHANGE'] / X_train['DAYS_EMPLOYED']\n",
    "X_train['NEW_CREDIT_TO_INCOME_RATIO'] = X_train['AMT_CREDIT_x'] / X_train['AMT_INCOME_TOTAL']\n",
    "\n",
    "X_test['DAYS_FOR_NEW_CAR'] = X_train['OWN_CAR_AGE'] - (X_train['OWN_CAR_AGE'] - (X_train['DAYS_BIRTH']/365))\n",
    "X_test['NEW_CAR_TO_BIRTH_RATIO'] = X_train['OWN_CAR_AGE'] / (X_train['DAYS_BIRTH']/365)\n",
    "#X_test['NEW_CAR_TO_BIRTH_RATIO'] = X_test['OWN_CAR_AGE'] / X_test['DAYS_BIRTH']\n",
    "X_test['NEW_CAR_TO_EMPLOY_RATIO'] = X_test['OWN_CAR_AGE'] / X_test['DAYS_EMPLOYED']\n",
    "X_test['NEW_PHONE_TO_BIRTH_RATIO'] = X_test['DAYS_LAST_PHONE_CHANGE'] / X_test['DAYS_BIRTH']\n",
    "X_test['NEW_PHONE_TO_BIRTH_RATIO_EMPLOYER'] = X_test['DAYS_LAST_PHONE_CHANGE'] / X_test['DAYS_EMPLOYED']\n",
    "X_test['NEW_CREDIT_TO_INCOME_RATIO'] = X_test['AMT_CREDIT_x'] / X_test['AMT_INCOME_TOTAL']"
   ]
  },
  {
   "cell_type": "code",
   "execution_count": 52,
   "metadata": {},
   "outputs": [
    {
     "data": {
      "text/plain": [
       "LGBMClassifier(boosting_type='gbdt', class_weight=None, colsample_bytree=1.0,\n",
       "        learning_rate=0.1, max_depth=-1, min_child_samples=20,\n",
       "        min_child_weight=0.001, min_split_gain=0.0, n_estimators=100,\n",
       "        n_jobs=-1, num_leaves=31, objective=None, random_state=None,\n",
       "        reg_alpha=0.0, reg_lambda=0.0, silent=True, subsample=1.0,\n",
       "        subsample_for_bin=200000, subsample_freq=1)"
      ]
     },
     "execution_count": 52,
     "metadata": {},
     "output_type": "execute_result"
    }
   ],
   "source": [
    "import lightgbm as lgb\n",
    "\n",
    "clf = lgb.LGBMClassifier()\n",
    "clf.fit(X_train, y_train)"
   ]
  },
  {
   "cell_type": "code",
   "execution_count": 53,
   "metadata": {},
   "outputs": [
    {
     "data": {
      "text/plain": [
       "0.92115404001808066"
      ]
     },
     "execution_count": 53,
     "metadata": {},
     "output_type": "execute_result"
    }
   ],
   "source": [
    "clf.score(X_train, y_train)"
   ]
  },
  {
   "cell_type": "code",
   "execution_count": 56,
   "metadata": {
    "collapsed": true
   },
   "outputs": [],
   "source": [
    "predict = clf.predict_proba(X_test)[:,1]"
   ]
  },
  {
   "cell_type": "code",
   "execution_count": 57,
   "metadata": {},
   "outputs": [
    {
     "data": {
      "text/plain": [
       "array([ 0.03684887,  0.11696687,  0.02837525, ...,  0.03618421,\n",
       "        0.04781164,  0.24295651])"
      ]
     },
     "execution_count": 57,
     "metadata": {},
     "output_type": "execute_result"
    }
   ],
   "source": [
    "predict"
   ]
  },
  {
   "cell_type": "code",
   "execution_count": 58,
   "metadata": {
    "collapsed": true
   },
   "outputs": [],
   "source": [
    "#sin correlación de datos\n",
    "result = pd.DataFrame(data=predict, index=data_test_merge.index, columns=['TARGET'])\n",
    "result.index.name = 'SK_ID_CURR'\n",
    "result.to_csv('./results/submission_test_56.csv')"
   ]
  },
  {
   "cell_type": "code",
   "execution_count": 59,
   "metadata": {
    "collapsed": true
   },
   "outputs": [],
   "source": [
    "dropcolum=['FLAG_DOCUMENT_2','FLAG_DOCUMENT_4',\n",
    "           'FLAG_DOCUMENT_5','FLAG_DOCUMENT_6','FLAG_DOCUMENT_7',\n",
    "           'FLAG_DOCUMENT_8','FLAG_DOCUMENT_9','FLAG_DOCUMENT_10', \n",
    "           'FLAG_DOCUMENT_11','FLAG_DOCUMENT_12','FLAG_DOCUMENT_13',\n",
    "           'FLAG_DOCUMENT_14','FLAG_DOCUMENT_15','FLAG_DOCUMENT_16',\n",
    "           'FLAG_DOCUMENT_17','FLAG_DOCUMENT_18','FLAG_DOCUMENT_19',\n",
    "           'FLAG_DOCUMENT_20','FLAG_DOCUMENT_21']\n",
    "\n",
    "X_train= X_train.drop(dropcolum,axis=1)\n",
    "X_test= X_test.drop(dropcolum,axis=1)"
   ]
  },
  {
   "cell_type": "code",
   "execution_count": 60,
   "metadata": {},
   "outputs": [
    {
     "data": {
      "text/plain": [
       "LGBMClassifier(boosting_type='gbdt', class_weight=None, colsample_bytree=1.0,\n",
       "        learning_rate=0.1, max_depth=-1, min_child_samples=20,\n",
       "        min_child_weight=0.001, min_split_gain=0.0, n_estimators=100,\n",
       "        n_jobs=-1, num_leaves=31, objective=None, random_state=None,\n",
       "        reg_alpha=0.0, reg_lambda=0.0, silent=True, subsample=1.0,\n",
       "        subsample_for_bin=200000, subsample_freq=1)"
      ]
     },
     "execution_count": 60,
     "metadata": {},
     "output_type": "execute_result"
    }
   ],
   "source": [
    "import lightgbm as lgb\n",
    "\n",
    "clf = lgb.LGBMClassifier()\n",
    "clf.fit(X_train, y_train)"
   ]
  },
  {
   "cell_type": "code",
   "execution_count": 61,
   "metadata": {},
   "outputs": [
    {
     "data": {
      "text/plain": [
       "0.92121582642572131"
      ]
     },
     "execution_count": 61,
     "metadata": {},
     "output_type": "execute_result"
    }
   ],
   "source": [
    "clf.score(X_train, y_train)"
   ]
  },
  {
   "cell_type": "code",
   "execution_count": 62,
   "metadata": {
    "collapsed": true
   },
   "outputs": [],
   "source": [
    "predict = clf.predict_proba(X_test)[:,1]"
   ]
  },
  {
   "cell_type": "code",
   "execution_count": 63,
   "metadata": {},
   "outputs": [
    {
     "data": {
      "text/plain": [
       "array([ 0.07293151,  0.12046468,  0.02528744, ...,  0.02687497,\n",
       "        0.05132805,  0.23377769])"
      ]
     },
     "execution_count": 63,
     "metadata": {},
     "output_type": "execute_result"
    }
   ],
   "source": [
    "predict"
   ]
  },
  {
   "cell_type": "code",
   "execution_count": 64,
   "metadata": {
    "collapsed": true
   },
   "outputs": [],
   "source": [
    "#sin correlación de datos\n",
    "result = pd.DataFrame(data=predict, index=data_test_merge.index, columns=['TARGET'])\n",
    "result.index.name = 'SK_ID_CURR'\n",
    "result.to_csv('./results/submission_test_57.csv')"
   ]
  },
  {
   "cell_type": "markdown",
   "metadata": {},
   "source": [
    "### no hay que eliminar las banderas, tratar de mirar que nuevas columnas sacar, hacer un detallado bien de las columnas, tratar de sacar razónes"
   ]
  },
  {
   "cell_type": "code",
   "execution_count": null,
   "metadata": {
    "collapsed": true
   },
   "outputs": [],
   "source": []
  },
  {
   "cell_type": "code",
   "execution_count": null,
   "metadata": {
    "collapsed": true
   },
   "outputs": [],
   "source": []
  },
  {
   "cell_type": "code",
   "execution_count": null,
   "metadata": {
    "collapsed": true
   },
   "outputs": [],
   "source": []
  }
 ],
 "metadata": {
  "kernelspec": {
   "display_name": "Python 3",
   "language": "python",
   "name": "python3"
  },
  "language_info": {
   "codemirror_mode": {
    "name": "ipython",
    "version": 3
   },
   "file_extension": ".py",
   "mimetype": "text/x-python",
   "name": "python",
   "nbconvert_exporter": "python",
   "pygments_lexer": "ipython3",
   "version": "3.6.2"
  }
 },
 "nbformat": 4,
 "nbformat_minor": 2
}
